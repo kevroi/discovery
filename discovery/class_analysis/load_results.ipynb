{
 "cells": [
  {
   "cell_type": "markdown",
   "metadata": {},
   "source": [
    "# Load classification Results"
   ]
  },
  {
   "cell_type": "code",
   "execution_count": 1,
   "metadata": {},
   "outputs": [
    {
     "name": "stdout",
     "output_type": "stream",
     "text": [
      "pygame 2.5.2 (SDL 2.28.3, Python 3.10.11)\n",
      "Hello from the pygame community. https://www.pygame.org/contribute.html\n",
      "Changed working directory to /Users/kevinroice/Documents/research/discovery\n"
     ]
    },
    {
     "data": {
      "text/plain": [
       "'/Users/kevinroice/Documents/research/discovery'"
      ]
     },
     "execution_count": 1,
     "metadata": {},
     "output_type": "execute_result"
    }
   ],
   "source": [
    "import pickle\n",
    "from discovery.class_analysis import run\n",
    "from discovery.class_analysis import datatypes\n",
    "import numpy as np\n",
    "from importlib import reload\n",
    "from discovery.utils import filesys\n",
    "\n",
    "import pandas as pd\n",
    "import os\n",
    "import dataclasses\n",
    "import matplotlib.pyplot as plt\n",
    "\n",
    "run = reload(run)\n",
    "filesys = reload(filesys)\n",
    "\n",
    "filesys.set_directory_in_project()\n"
   ]
  },
  {
   "cell_type": "code",
   "execution_count": 2,
   "metadata": {},
   "outputs": [],
   "source": [
    "def df_with_flat_settings(results: dict):\n",
    "    return pd.DataFrame([\n",
    "        dataclasses.asdict(k) | dataclasses.asdict(v)\n",
    "        for k, v in results.items()\n",
    "    ])\n"
   ]
  },
  {
   "cell_type": "code",
   "execution_count": 3,
   "metadata": {},
   "outputs": [],
   "source": [
    "def store_df_as_csv(path_to_res_file, df):\n",
    "    head, tail = os.path.split(path_to_res_file)\n",
    "    assert tail.endswith(\".pkl\")\n",
    "    csv_name = tail[:-4] + \"_from_notebook.csv\"\n",
    "    save_to = os.path.join(head, csv_name)\n",
    "    print(\"Saving to\", save_to)\n",
    "    df.to_csv(save_to, index=False)"
   ]
  },
  {
   "cell_type": "markdown",
   "metadata": {},
   "source": [
    "## Minigrid"
   ]
  },
  {
   "cell_type": "code",
   "execution_count": 4,
   "metadata": {},
   "outputs": [
    {
     "name": "stdout",
     "output_type": "stream",
     "text": [
      "Changed working directory to /Users/kevinroice/Documents/research/discovery\n",
      "setting: Setting(multitask=True, model_type=<ModelType.CNN: 1>, env_name=<EnvName.TwoRooms: 1>)\n",
      "  num_runs:  2\n",
      "  lin_acc_mean +- stderr:  0.9794520547945205 +- 0.004843197131414689\n",
      "  nonlin_acc_mean +- stderr:  0.9811643835616438 +- 0.003632397848561007\n",
      "  lin_sg_acc:  0.375 +- 0.2651650429449553\n",
      "  nonlin_sg_acc:  1.0 +- 0.0\n",
      "  lin_non_sg_acc:  0.9878472222222222 +- 0.008593311576919857\n",
      "  nonlin_non_sg_acc:  0.9756944444444444 +- 0.0\n",
      "setting: Setting(multitask=True, model_type=<ModelType.RANDOM_PROJ_GAUSS: 3>, env_name=<EnvName.TwoRooms: 1>)\n",
      "  num_runs:  2\n",
      "  lin_acc_mean +- stderr:  0.9897260273972602 +- 0.002421598565707364\n",
      "  nonlin_acc_mean +- stderr:  1.0 +- 0.0\n",
      "  lin_sg_acc:  1.0 +- 0.0\n",
      "  nonlin_sg_acc:  1.0 +- 0.0\n",
      "  lin_non_sg_acc:  0.9895833333333334 +- 0.002455231879119948\n",
      "  nonlin_non_sg_acc:  1.0 +- 0.0\n",
      "setting: Setting(multitask=True, model_type=<ModelType.RANDOM_PROJ_SPARSE: 4>, env_name=<EnvName.TwoRooms: 1>)\n",
      "  num_runs:  2\n",
      "  lin_acc_mean +- stderr:  1.0 +- 0.0\n",
      "  nonlin_acc_mean +- stderr:  1.0 +- 0.0\n",
      "  lin_sg_acc:  1.0 +- 0.0\n",
      "  nonlin_sg_acc:  1.0 +- 0.0\n",
      "  lin_non_sg_acc:  1.0 +- 0.0\n",
      "  nonlin_non_sg_acc:  1.0 +- 0.0\n"
     ]
    }
   ],
   "source": [
    "filesys.set_directory_in_project()\n",
    "TWO_ROOMS_PATH = \"discovery/class_analysis/two_rooms_RESULTS.pkl\"\n",
    "# TWO_ROOMS_PATH = \"discovery/class_analysis/two_rooms_RESULTS_old.pkl\"\n",
    "\n",
    "two_rooms_results = run.load_existing_results(TWO_ROOMS_PATH)\n",
    "for setting, data in two_rooms_results.items():\n",
    "    print(\"setting:\", setting)\n",
    "    print(\"  num_runs: \", data.num_runs)\n",
    "    print(\"  lin_acc_mean +- stderr: \", data.lin_acc_mean, \"+-\", data.lin_acc_std_err)\n",
    "    print(\"  nonlin_acc_mean +- stderr: \", data.nonlin_acc_mean, \"+-\", data.nonlin_acc_std_err)\n",
    "    print(\"  lin_sg_acc: \", data.lin_sg_acc_mean, \"+-\", data.lin_sg_acc_std_err)\n",
    "    print(\"  nonlin_sg_acc: \", data.nonlin_sg_acc_mean, \"+-\", data.nonlin_sg_acc_std_err)\n",
    "    print(\"  lin_non_sg_acc: \", data.lin_non_sg_acc_mean, \"+-\", data.lin_non_sg_acc_std_err)\n",
    "    print(\"  nonlin_non_sg_acc: \", data.nonlin_non_sg_acc_mean, \"+-\", data.nonlin_non_sg_acc_std_err)\n",
    "\n"
   ]
  },
  {
   "cell_type": "code",
   "execution_count": 5,
   "metadata": {},
   "outputs": [
    {
     "data": {
      "text/html": [
       "<div>\n",
       "<style scoped>\n",
       "    .dataframe tbody tr th:only-of-type {\n",
       "        vertical-align: middle;\n",
       "    }\n",
       "\n",
       "    .dataframe tbody tr th {\n",
       "        vertical-align: top;\n",
       "    }\n",
       "\n",
       "    .dataframe thead th {\n",
       "        text-align: right;\n",
       "    }\n",
       "</style>\n",
       "<table border=\"1\" class=\"dataframe\">\n",
       "  <thead>\n",
       "    <tr style=\"text-align: right;\">\n",
       "      <th></th>\n",
       "      <th>multitask</th>\n",
       "      <th>model_type</th>\n",
       "      <th>env_name</th>\n",
       "      <th>wandb_ids</th>\n",
       "      <th>num_runs</th>\n",
       "      <th>lin_accuracies</th>\n",
       "      <th>lin_sg_accuracies</th>\n",
       "      <th>lin_non_sg_accuracies</th>\n",
       "      <th>lin_conf_matrices</th>\n",
       "      <th>lin_acc_mean</th>\n",
       "      <th>...</th>\n",
       "      <th>nonlin_accuracies</th>\n",
       "      <th>nonlin_sg_accuracies</th>\n",
       "      <th>nonlin_non_sg_accuracies</th>\n",
       "      <th>nonlin_conf_matrices</th>\n",
       "      <th>nonlin_acc_mean</th>\n",
       "      <th>nonlin_acc_std_err</th>\n",
       "      <th>nonlin_sg_acc_mean</th>\n",
       "      <th>nonlin_sg_acc_std_err</th>\n",
       "      <th>nonlin_non_sg_acc_mean</th>\n",
       "      <th>nonlin_non_sg_acc_std_err</th>\n",
       "    </tr>\n",
       "  </thead>\n",
       "  <tbody>\n",
       "    <tr>\n",
       "      <th>0</th>\n",
       "      <td>True</td>\n",
       "      <td>ModelType.CNN</td>\n",
       "      <td>EnvName.TwoRooms</td>\n",
       "      <td>[m2fsh2ro, rege1prb]</td>\n",
       "      <td>2</td>\n",
       "      <td>[0.9726027397260274, 0.9863013698630136]</td>\n",
       "      <td>[0.75, 0.0]</td>\n",
       "      <td>[0.9756944444444444, 1.0]</td>\n",
       "      <td>[[[281, 7], [1, 3]], [[288, 0], [4, 0]]]</td>\n",
       "      <td>0.979452</td>\n",
       "      <td>...</td>\n",
       "      <td>[0.976027397260274, 0.9863013698630136]</td>\n",
       "      <td>[1.0]</td>\n",
       "      <td>[0.9756944444444444]</td>\n",
       "      <td>[[[281, 7], [0, 4]], [[288, 0], [4, 0]]]</td>\n",
       "      <td>0.981164</td>\n",
       "      <td>0.003632</td>\n",
       "      <td>1.0</td>\n",
       "      <td>0.0</td>\n",
       "      <td>0.975694</td>\n",
       "      <td>0.0</td>\n",
       "    </tr>\n",
       "    <tr>\n",
       "      <th>1</th>\n",
       "      <td>True</td>\n",
       "      <td>ModelType.RANDOM_PROJ_GAUSS</td>\n",
       "      <td>EnvName.TwoRooms</td>\n",
       "      <td>[None, None]</td>\n",
       "      <td>2</td>\n",
       "      <td>[0.9863013698630136, 0.9931506849315068]</td>\n",
       "      <td>[1.0, 1.0]</td>\n",
       "      <td>[0.9861111111111112, 0.9930555555555556]</td>\n",
       "      <td>[[[284, 4], [0, 4]], [[286, 2], [0, 4]]]</td>\n",
       "      <td>0.989726</td>\n",
       "      <td>...</td>\n",
       "      <td>[1.0, 1.0]</td>\n",
       "      <td>[1.0]</td>\n",
       "      <td>[1.0]</td>\n",
       "      <td>[[[288, 0], [0, 4]], [[288, 0], [0, 4]]]</td>\n",
       "      <td>1.000000</td>\n",
       "      <td>0.000000</td>\n",
       "      <td>1.0</td>\n",
       "      <td>0.0</td>\n",
       "      <td>1.000000</td>\n",
       "      <td>0.0</td>\n",
       "    </tr>\n",
       "    <tr>\n",
       "      <th>2</th>\n",
       "      <td>True</td>\n",
       "      <td>ModelType.RANDOM_PROJ_SPARSE</td>\n",
       "      <td>EnvName.TwoRooms</td>\n",
       "      <td>[None, None]</td>\n",
       "      <td>2</td>\n",
       "      <td>[1.0, 1.0]</td>\n",
       "      <td>[1.0, 1.0]</td>\n",
       "      <td>[1.0, 1.0]</td>\n",
       "      <td>[[[288, 0], [0, 4]], [[288, 0], [0, 4]]]</td>\n",
       "      <td>1.000000</td>\n",
       "      <td>...</td>\n",
       "      <td>[1.0, 1.0]</td>\n",
       "      <td>[1.0]</td>\n",
       "      <td>[1.0]</td>\n",
       "      <td>[[[288, 0], [0, 4]], [[288, 0], [0, 4]]]</td>\n",
       "      <td>1.000000</td>\n",
       "      <td>0.000000</td>\n",
       "      <td>1.0</td>\n",
       "      <td>0.0</td>\n",
       "      <td>1.000000</td>\n",
       "      <td>0.0</td>\n",
       "    </tr>\n",
       "  </tbody>\n",
       "</table>\n",
       "<p>3 rows × 25 columns</p>\n",
       "</div>"
      ],
      "text/plain": [
       "   multitask                    model_type          env_name  \\\n",
       "0       True                 ModelType.CNN  EnvName.TwoRooms   \n",
       "1       True   ModelType.RANDOM_PROJ_GAUSS  EnvName.TwoRooms   \n",
       "2       True  ModelType.RANDOM_PROJ_SPARSE  EnvName.TwoRooms   \n",
       "\n",
       "              wandb_ids  num_runs                            lin_accuracies  \\\n",
       "0  [m2fsh2ro, rege1prb]         2  [0.9726027397260274, 0.9863013698630136]   \n",
       "1          [None, None]         2  [0.9863013698630136, 0.9931506849315068]   \n",
       "2          [None, None]         2                                [1.0, 1.0]   \n",
       "\n",
       "  lin_sg_accuracies                     lin_non_sg_accuracies  \\\n",
       "0       [0.75, 0.0]                 [0.9756944444444444, 1.0]   \n",
       "1        [1.0, 1.0]  [0.9861111111111112, 0.9930555555555556]   \n",
       "2        [1.0, 1.0]                                [1.0, 1.0]   \n",
       "\n",
       "                          lin_conf_matrices  lin_acc_mean  ...  \\\n",
       "0  [[[281, 7], [1, 3]], [[288, 0], [4, 0]]]      0.979452  ...   \n",
       "1  [[[284, 4], [0, 4]], [[286, 2], [0, 4]]]      0.989726  ...   \n",
       "2  [[[288, 0], [0, 4]], [[288, 0], [0, 4]]]      1.000000  ...   \n",
       "\n",
       "                         nonlin_accuracies  nonlin_sg_accuracies  \\\n",
       "0  [0.976027397260274, 0.9863013698630136]                 [1.0]   \n",
       "1                               [1.0, 1.0]                 [1.0]   \n",
       "2                               [1.0, 1.0]                 [1.0]   \n",
       "\n",
       "   nonlin_non_sg_accuracies                      nonlin_conf_matrices  \\\n",
       "0      [0.9756944444444444]  [[[281, 7], [0, 4]], [[288, 0], [4, 0]]]   \n",
       "1                     [1.0]  [[[288, 0], [0, 4]], [[288, 0], [0, 4]]]   \n",
       "2                     [1.0]  [[[288, 0], [0, 4]], [[288, 0], [0, 4]]]   \n",
       "\n",
       "   nonlin_acc_mean nonlin_acc_std_err nonlin_sg_acc_mean  \\\n",
       "0         0.981164           0.003632                1.0   \n",
       "1         1.000000           0.000000                1.0   \n",
       "2         1.000000           0.000000                1.0   \n",
       "\n",
       "  nonlin_sg_acc_std_err nonlin_non_sg_acc_mean  nonlin_non_sg_acc_std_err  \n",
       "0                   0.0               0.975694                        0.0  \n",
       "1                   0.0               1.000000                        0.0  \n",
       "2                   0.0               1.000000                        0.0  \n",
       "\n",
       "[3 rows x 25 columns]"
      ]
     },
     "execution_count": 5,
     "metadata": {},
     "output_type": "execute_result"
    }
   ],
   "source": [
    "df_two_rooms = df_with_flat_settings(two_rooms_results)\n",
    "df_two_rooms"
   ]
  },
  {
   "cell_type": "code",
   "execution_count": 6,
   "metadata": {},
   "outputs": [
    {
     "data": {
      "text/html": [
       "<div>\n",
       "<style scoped>\n",
       "    .dataframe tbody tr th:only-of-type {\n",
       "        vertical-align: middle;\n",
       "    }\n",
       "\n",
       "    .dataframe tbody tr th {\n",
       "        vertical-align: top;\n",
       "    }\n",
       "\n",
       "    .dataframe thead th {\n",
       "        text-align: right;\n",
       "    }\n",
       "</style>\n",
       "<table border=\"1\" class=\"dataframe\">\n",
       "  <thead>\n",
       "    <tr style=\"text-align: right;\">\n",
       "      <th></th>\n",
       "      <th>lin_acc_mean</th>\n",
       "      <th>lin_acc_std_err</th>\n",
       "      <th>lin_sg_acc_mean</th>\n",
       "      <th>lin_acc_std_err</th>\n",
       "      <th>nonlin_acc_mean</th>\n",
       "      <th>nonlin_acc_std_err</th>\n",
       "      <th>nonlin_sg_acc_mean</th>\n",
       "      <th>nonlin_sg_acc_std_err</th>\n",
       "      <th>label</th>\n",
       "    </tr>\n",
       "  </thead>\n",
       "  <tbody>\n",
       "    <tr>\n",
       "      <th>0</th>\n",
       "      <td>0.979452</td>\n",
       "      <td>0.004843</td>\n",
       "      <td>0.375</td>\n",
       "      <td>0.004843</td>\n",
       "      <td>0.981164</td>\n",
       "      <td>0.003632</td>\n",
       "      <td>1.0</td>\n",
       "      <td>0.0</td>\n",
       "      <td>Multi-Task; CNN</td>\n",
       "    </tr>\n",
       "    <tr>\n",
       "      <th>1</th>\n",
       "      <td>0.989726</td>\n",
       "      <td>0.002422</td>\n",
       "      <td>1.000</td>\n",
       "      <td>0.002422</td>\n",
       "      <td>1.000000</td>\n",
       "      <td>0.000000</td>\n",
       "      <td>1.0</td>\n",
       "      <td>0.0</td>\n",
       "      <td>Random Gaussian Proj.</td>\n",
       "    </tr>\n",
       "    <tr>\n",
       "      <th>2</th>\n",
       "      <td>1.000000</td>\n",
       "      <td>0.000000</td>\n",
       "      <td>1.000</td>\n",
       "      <td>0.000000</td>\n",
       "      <td>1.000000</td>\n",
       "      <td>0.000000</td>\n",
       "      <td>1.0</td>\n",
       "      <td>0.0</td>\n",
       "      <td>Random Sparse Proj.</td>\n",
       "    </tr>\n",
       "  </tbody>\n",
       "</table>\n",
       "</div>"
      ],
      "text/plain": [
       "   lin_acc_mean  lin_acc_std_err  lin_sg_acc_mean  lin_acc_std_err  \\\n",
       "0      0.979452         0.004843            0.375         0.004843   \n",
       "1      0.989726         0.002422            1.000         0.002422   \n",
       "2      1.000000         0.000000            1.000         0.000000   \n",
       "\n",
       "   nonlin_acc_mean  nonlin_acc_std_err  nonlin_sg_acc_mean  \\\n",
       "0         0.981164            0.003632                 1.0   \n",
       "1         1.000000            0.000000                 1.0   \n",
       "2         1.000000            0.000000                 1.0   \n",
       "\n",
       "   nonlin_sg_acc_std_err                  label  \n",
       "0                    0.0        Multi-Task; CNN  \n",
       "1                    0.0  Random Gaussian Proj.  \n",
       "2                    0.0    Random Sparse Proj.  "
      ]
     },
     "execution_count": 6,
     "metadata": {},
     "output_type": "execute_result"
    }
   ],
   "source": [
    "label_mapping = {\n",
    "    (False, datatypes.ModelType.FTA): \"Single-Task; FTA\",\n",
    "    (False, datatypes.ModelType.CNN): \"Single-Task; CNN\",\n",
    "    (True, datatypes.ModelType.FTA): \"Multi-Task; FTA\",\n",
    "    (True, datatypes.ModelType.CNN): \"Multi-Task; CNN\",\n",
    "    (True, datatypes.ModelType.RANDOM_PROJ_GAUSS): \"Random Gaussian Proj.\",\n",
    "    (True, datatypes.ModelType.RANDOM_PROJ_SPARSE): \"Random Sparse Proj.\",\n",
    "}\n",
    "\n",
    "def clean_df(df, label_mapping):\n",
    "\n",
    "    df_clean = df.loc[:, (\n",
    "        \"multitask\", \"model_type\",\n",
    "        \"lin_acc_mean\", \"lin_acc_std_err\",\n",
    "        \"lin_sg_acc_mean\", \"lin_acc_std_err\",\n",
    "        \"nonlin_acc_mean\", \"nonlin_acc_std_err\",\n",
    "        \"nonlin_sg_acc_mean\", \"nonlin_sg_acc_std_err\",)]\n",
    "\n",
    "    df_clean[\"label\"] = df_clean.apply(\n",
    "        lambda row: label_mapping[(row[\"multitask\"], row[\"model_type\"])], axis=1\n",
    "    )\n",
    "\n",
    "    df_clean.drop(columns=[\"multitask\", \"model_type\"], inplace=True)\n",
    "    return df_clean\n",
    "\n",
    "# df.loc[df.env_name == datatypes.EnvName.TwoRooms]\n",
    "df_two_rooms_clean = clean_df(df_two_rooms, label_mapping)\n",
    "df_two_rooms_clean"
   ]
  },
  {
   "cell_type": "code",
   "execution_count": 8,
   "metadata": {},
   "outputs": [
    {
     "ename": "ValueError",
     "evalue": "'yerr' (shape: (3, 2)) must be a scalar or a 1D or (2, n) array-like whose shape matches 'y' (shape: (3,))",
     "output_type": "error",
     "traceback": [
      "\u001b[0;31m---------------------------------------------------------------------------\u001b[0m",
      "\u001b[0;31mValueError\u001b[0m                                Traceback (most recent call last)",
      "Cell \u001b[0;32mIn[8], line 20\u001b[0m\n\u001b[1;32m     17\u001b[0m fig, ax \u001b[38;5;241m=\u001b[39m plt\u001b[38;5;241m.\u001b[39msubplots(figsize\u001b[38;5;241m=\u001b[39m(\u001b[38;5;241m8\u001b[39m, \u001b[38;5;241m5\u001b[39m))\n\u001b[1;32m     19\u001b[0m ax\u001b[38;5;241m.\u001b[39mgrid(\u001b[38;5;28;01mTrue\u001b[39;00m, which\u001b[38;5;241m=\u001b[39m\u001b[38;5;124m'\u001b[39m\u001b[38;5;124mboth\u001b[39m\u001b[38;5;124m'\u001b[39m, linestyle\u001b[38;5;241m=\u001b[39m\u001b[38;5;124m'\u001b[39m\u001b[38;5;124m--\u001b[39m\u001b[38;5;124m'\u001b[39m, linewidth\u001b[38;5;241m=\u001b[39m\u001b[38;5;241m0.5\u001b[39m, zorder\u001b[38;5;241m=\u001b[39m\u001b[38;5;241m0\u001b[39m)\n\u001b[0;32m---> 20\u001b[0m \u001b[43max\u001b[49m\u001b[38;5;241;43m.\u001b[39;49m\u001b[43mbar\u001b[49m\u001b[43m(\u001b[49m\u001b[43mdf_two_rooms_clean\u001b[49m\u001b[43m[\u001b[49m\u001b[38;5;124;43m'\u001b[39;49m\u001b[38;5;124;43mlabel\u001b[39;49m\u001b[38;5;124;43m'\u001b[39;49m\u001b[43m]\u001b[49m\u001b[43m,\u001b[49m\n\u001b[1;32m     21\u001b[0m \u001b[43m       \u001b[49m\u001b[43mdf_two_rooms_clean\u001b[49m\u001b[43m[\u001b[49m\u001b[38;5;124;43m'\u001b[39;49m\u001b[38;5;124;43mlin_acc_mean\u001b[39;49m\u001b[38;5;124;43m'\u001b[39;49m\u001b[43m]\u001b[49m\u001b[43m,\u001b[49m\n\u001b[1;32m     22\u001b[0m \u001b[43m       \u001b[49m\u001b[43myerr\u001b[49m\u001b[38;5;241;43m=\u001b[39;49m\u001b[43mdf_two_rooms_clean\u001b[49m\u001b[43m[\u001b[49m\u001b[38;5;124;43m'\u001b[39;49m\u001b[38;5;124;43mlin_acc_std_err\u001b[39;49m\u001b[38;5;124;43m'\u001b[39;49m\u001b[43m]\u001b[49m\u001b[43m,\u001b[49m\n\u001b[1;32m     23\u001b[0m \u001b[43m       \u001b[49m\u001b[43mcapsize\u001b[49m\u001b[38;5;241;43m=\u001b[39;49m\u001b[38;5;241;43m5\u001b[39;49m\u001b[43m,\u001b[49m\u001b[43m \u001b[49m\u001b[43mcolor\u001b[49m\u001b[38;5;241;43m=\u001b[39;49m\u001b[38;5;124;43m'\u001b[39;49m\u001b[38;5;124;43mskyblue\u001b[39;49m\u001b[38;5;124;43m'\u001b[39;49m\u001b[43m,\u001b[49m\n\u001b[1;32m     24\u001b[0m \u001b[43m       \u001b[49m\u001b[43mzorder\u001b[49m\u001b[38;5;241;43m=\u001b[39;49m\u001b[38;5;241;43m3\u001b[39;49m\u001b[43m)\u001b[49m\n\u001b[1;32m     26\u001b[0m ax\u001b[38;5;241m.\u001b[39mbar(df_two_rooms_clean[\u001b[38;5;124m'\u001b[39m\u001b[38;5;124mlabel\u001b[39m\u001b[38;5;124m'\u001b[39m], df_two_rooms_clean[\u001b[38;5;124m'\u001b[39m\u001b[38;5;124mlin_acc_mean\u001b[39m\u001b[38;5;124m'\u001b[39m],)\n\u001b[1;32m     28\u001b[0m ax\u001b[38;5;241m.\u001b[39mset_xlabel(\u001b[38;5;124m'\u001b[39m\u001b[38;5;124mModel Type\u001b[39m\u001b[38;5;124m'\u001b[39m)\n",
      "File \u001b[0;32m~/Documents/research/discovery/venv/lib/python3.10/site-packages/matplotlib/__init__.py:1465\u001b[0m, in \u001b[0;36m_preprocess_data.<locals>.inner\u001b[0;34m(ax, data, *args, **kwargs)\u001b[0m\n\u001b[1;32m   1462\u001b[0m \u001b[38;5;129m@functools\u001b[39m\u001b[38;5;241m.\u001b[39mwraps(func)\n\u001b[1;32m   1463\u001b[0m \u001b[38;5;28;01mdef\u001b[39;00m \u001b[38;5;21minner\u001b[39m(ax, \u001b[38;5;241m*\u001b[39margs, data\u001b[38;5;241m=\u001b[39m\u001b[38;5;28;01mNone\u001b[39;00m, \u001b[38;5;241m*\u001b[39m\u001b[38;5;241m*\u001b[39mkwargs):\n\u001b[1;32m   1464\u001b[0m     \u001b[38;5;28;01mif\u001b[39;00m data \u001b[38;5;129;01mis\u001b[39;00m \u001b[38;5;28;01mNone\u001b[39;00m:\n\u001b[0;32m-> 1465\u001b[0m         \u001b[38;5;28;01mreturn\u001b[39;00m \u001b[43mfunc\u001b[49m\u001b[43m(\u001b[49m\u001b[43max\u001b[49m\u001b[43m,\u001b[49m\u001b[43m \u001b[49m\u001b[38;5;241;43m*\u001b[39;49m\u001b[38;5;28;43mmap\u001b[39;49m\u001b[43m(\u001b[49m\u001b[43msanitize_sequence\u001b[49m\u001b[43m,\u001b[49m\u001b[43m \u001b[49m\u001b[43margs\u001b[49m\u001b[43m)\u001b[49m\u001b[43m,\u001b[49m\u001b[43m \u001b[49m\u001b[38;5;241;43m*\u001b[39;49m\u001b[38;5;241;43m*\u001b[39;49m\u001b[43mkwargs\u001b[49m\u001b[43m)\u001b[49m\n\u001b[1;32m   1467\u001b[0m     bound \u001b[38;5;241m=\u001b[39m new_sig\u001b[38;5;241m.\u001b[39mbind(ax, \u001b[38;5;241m*\u001b[39margs, \u001b[38;5;241m*\u001b[39m\u001b[38;5;241m*\u001b[39mkwargs)\n\u001b[1;32m   1468\u001b[0m     auto_label \u001b[38;5;241m=\u001b[39m (bound\u001b[38;5;241m.\u001b[39marguments\u001b[38;5;241m.\u001b[39mget(label_namer)\n\u001b[1;32m   1469\u001b[0m                   \u001b[38;5;129;01mor\u001b[39;00m bound\u001b[38;5;241m.\u001b[39mkwargs\u001b[38;5;241m.\u001b[39mget(label_namer))\n",
      "File \u001b[0;32m~/Documents/research/discovery/venv/lib/python3.10/site-packages/matplotlib/axes/_axes.py:2550\u001b[0m, in \u001b[0;36mAxes.bar\u001b[0;34m(self, x, height, width, bottom, align, **kwargs)\u001b[0m\n\u001b[1;32m   2546\u001b[0m         ey \u001b[38;5;241m=\u001b[39m [b \u001b[38;5;241m+\u001b[39m \u001b[38;5;241m0.5\u001b[39m \u001b[38;5;241m*\u001b[39m h \u001b[38;5;28;01mfor\u001b[39;00m b, h \u001b[38;5;129;01min\u001b[39;00m \u001b[38;5;28mzip\u001b[39m(bottom, height)]\n\u001b[1;32m   2548\u001b[0m     error_kw\u001b[38;5;241m.\u001b[39msetdefault(\u001b[38;5;124m\"\u001b[39m\u001b[38;5;124mlabel\u001b[39m\u001b[38;5;124m\"\u001b[39m, \u001b[38;5;124m'\u001b[39m\u001b[38;5;124m_nolegend_\u001b[39m\u001b[38;5;124m'\u001b[39m)\n\u001b[0;32m-> 2550\u001b[0m     errorbar \u001b[38;5;241m=\u001b[39m \u001b[38;5;28;43mself\u001b[39;49m\u001b[38;5;241;43m.\u001b[39;49m\u001b[43merrorbar\u001b[49m\u001b[43m(\u001b[49m\u001b[43mex\u001b[49m\u001b[43m,\u001b[49m\u001b[43m \u001b[49m\u001b[43mey\u001b[49m\u001b[43m,\u001b[49m\n\u001b[1;32m   2551\u001b[0m \u001b[43m                             \u001b[49m\u001b[43myerr\u001b[49m\u001b[38;5;241;43m=\u001b[39;49m\u001b[43myerr\u001b[49m\u001b[43m,\u001b[49m\u001b[43m \u001b[49m\u001b[43mxerr\u001b[49m\u001b[38;5;241;43m=\u001b[39;49m\u001b[43mxerr\u001b[49m\u001b[43m,\u001b[49m\n\u001b[1;32m   2552\u001b[0m \u001b[43m                             \u001b[49m\u001b[43mfmt\u001b[49m\u001b[38;5;241;43m=\u001b[39;49m\u001b[38;5;124;43m'\u001b[39;49m\u001b[38;5;124;43mnone\u001b[39;49m\u001b[38;5;124;43m'\u001b[39;49m\u001b[43m,\u001b[49m\u001b[43m \u001b[49m\u001b[38;5;241;43m*\u001b[39;49m\u001b[38;5;241;43m*\u001b[39;49m\u001b[43merror_kw\u001b[49m\u001b[43m)\u001b[49m\n\u001b[1;32m   2553\u001b[0m \u001b[38;5;28;01melse\u001b[39;00m:\n\u001b[1;32m   2554\u001b[0m     errorbar \u001b[38;5;241m=\u001b[39m \u001b[38;5;28;01mNone\u001b[39;00m\n",
      "File \u001b[0;32m~/Documents/research/discovery/venv/lib/python3.10/site-packages/matplotlib/__init__.py:1465\u001b[0m, in \u001b[0;36m_preprocess_data.<locals>.inner\u001b[0;34m(ax, data, *args, **kwargs)\u001b[0m\n\u001b[1;32m   1462\u001b[0m \u001b[38;5;129m@functools\u001b[39m\u001b[38;5;241m.\u001b[39mwraps(func)\n\u001b[1;32m   1463\u001b[0m \u001b[38;5;28;01mdef\u001b[39;00m \u001b[38;5;21minner\u001b[39m(ax, \u001b[38;5;241m*\u001b[39margs, data\u001b[38;5;241m=\u001b[39m\u001b[38;5;28;01mNone\u001b[39;00m, \u001b[38;5;241m*\u001b[39m\u001b[38;5;241m*\u001b[39mkwargs):\n\u001b[1;32m   1464\u001b[0m     \u001b[38;5;28;01mif\u001b[39;00m data \u001b[38;5;129;01mis\u001b[39;00m \u001b[38;5;28;01mNone\u001b[39;00m:\n\u001b[0;32m-> 1465\u001b[0m         \u001b[38;5;28;01mreturn\u001b[39;00m \u001b[43mfunc\u001b[49m\u001b[43m(\u001b[49m\u001b[43max\u001b[49m\u001b[43m,\u001b[49m\u001b[43m \u001b[49m\u001b[38;5;241;43m*\u001b[39;49m\u001b[38;5;28;43mmap\u001b[39;49m\u001b[43m(\u001b[49m\u001b[43msanitize_sequence\u001b[49m\u001b[43m,\u001b[49m\u001b[43m \u001b[49m\u001b[43margs\u001b[49m\u001b[43m)\u001b[49m\u001b[43m,\u001b[49m\u001b[43m \u001b[49m\u001b[38;5;241;43m*\u001b[39;49m\u001b[38;5;241;43m*\u001b[39;49m\u001b[43mkwargs\u001b[49m\u001b[43m)\u001b[49m\n\u001b[1;32m   1467\u001b[0m     bound \u001b[38;5;241m=\u001b[39m new_sig\u001b[38;5;241m.\u001b[39mbind(ax, \u001b[38;5;241m*\u001b[39margs, \u001b[38;5;241m*\u001b[39m\u001b[38;5;241m*\u001b[39mkwargs)\n\u001b[1;32m   1468\u001b[0m     auto_label \u001b[38;5;241m=\u001b[39m (bound\u001b[38;5;241m.\u001b[39marguments\u001b[38;5;241m.\u001b[39mget(label_namer)\n\u001b[1;32m   1469\u001b[0m                   \u001b[38;5;129;01mor\u001b[39;00m bound\u001b[38;5;241m.\u001b[39mkwargs\u001b[38;5;241m.\u001b[39mget(label_namer))\n",
      "File \u001b[0;32m~/Documents/research/discovery/venv/lib/python3.10/site-packages/matplotlib/axes/_axes.py:3667\u001b[0m, in \u001b[0;36mAxes.errorbar\u001b[0;34m(self, x, y, yerr, xerr, fmt, ecolor, elinewidth, capsize, barsabove, lolims, uplims, xlolims, xuplims, errorevery, capthick, **kwargs)\u001b[0m\n\u001b[1;32m   3665\u001b[0m     np\u001b[38;5;241m.\u001b[39mbroadcast_to(err, (\u001b[38;5;241m2\u001b[39m, \u001b[38;5;28mlen\u001b[39m(dep)))\n\u001b[1;32m   3666\u001b[0m \u001b[38;5;28;01mexcept\u001b[39;00m \u001b[38;5;167;01mValueError\u001b[39;00m:\n\u001b[0;32m-> 3667\u001b[0m     \u001b[38;5;28;01mraise\u001b[39;00m \u001b[38;5;167;01mValueError\u001b[39;00m(\n\u001b[1;32m   3668\u001b[0m         \u001b[38;5;124mf\u001b[39m\u001b[38;5;124m\"\u001b[39m\u001b[38;5;124m'\u001b[39m\u001b[38;5;132;01m{\u001b[39;00mdep_axis\u001b[38;5;132;01m}\u001b[39;00m\u001b[38;5;124merr\u001b[39m\u001b[38;5;124m'\u001b[39m\u001b[38;5;124m (shape: \u001b[39m\u001b[38;5;132;01m{\u001b[39;00mnp\u001b[38;5;241m.\u001b[39mshape(err)\u001b[38;5;132;01m}\u001b[39;00m\u001b[38;5;124m) must be a \u001b[39m\u001b[38;5;124m\"\u001b[39m\n\u001b[1;32m   3669\u001b[0m         \u001b[38;5;124mf\u001b[39m\u001b[38;5;124m\"\u001b[39m\u001b[38;5;124mscalar or a 1D or (2, n) array-like whose shape matches \u001b[39m\u001b[38;5;124m\"\u001b[39m\n\u001b[1;32m   3670\u001b[0m         \u001b[38;5;124mf\u001b[39m\u001b[38;5;124m\"\u001b[39m\u001b[38;5;124m'\u001b[39m\u001b[38;5;132;01m{\u001b[39;00mdep_axis\u001b[38;5;132;01m}\u001b[39;00m\u001b[38;5;124m'\u001b[39m\u001b[38;5;124m (shape: \u001b[39m\u001b[38;5;132;01m{\u001b[39;00mnp\u001b[38;5;241m.\u001b[39mshape(dep)\u001b[38;5;132;01m}\u001b[39;00m\u001b[38;5;124m)\u001b[39m\u001b[38;5;124m\"\u001b[39m) \u001b[38;5;28;01mfrom\u001b[39;00m \u001b[38;5;28;01mNone\u001b[39;00m\n\u001b[1;32m   3671\u001b[0m res \u001b[38;5;241m=\u001b[39m np\u001b[38;5;241m.\u001b[39mzeros(err\u001b[38;5;241m.\u001b[39mshape, dtype\u001b[38;5;241m=\u001b[39m\u001b[38;5;28mbool\u001b[39m)  \u001b[38;5;66;03m# Default in case of nan\u001b[39;00m\n\u001b[1;32m   3672\u001b[0m \u001b[38;5;28;01mif\u001b[39;00m np\u001b[38;5;241m.\u001b[39many(np\u001b[38;5;241m.\u001b[39mless(err, \u001b[38;5;241m-\u001b[39merr, out\u001b[38;5;241m=\u001b[39mres, where\u001b[38;5;241m=\u001b[39m(err \u001b[38;5;241m==\u001b[39m err))):\n\u001b[1;32m   3673\u001b[0m     \u001b[38;5;66;03m# like err<0, but also works for timedelta and nan.\u001b[39;00m\n",
      "\u001b[0;31mValueError\u001b[0m: 'yerr' (shape: (3, 2)) must be a scalar or a 1D or (2, n) array-like whose shape matches 'y' (shape: (3,))"
     ]
    },
    {
     "data": {
      "image/png": "[encoded data removed]",
      "text/plain": [
       "<Figure size 800x500 with 1 Axes>"
      ]
     },
     "metadata": {},
     "output_type": "display_data"
    }
   ],
   "source": [
    "# Reorder DataFrame based on the specified order\n",
    "order = [\n",
    "    'Single-Task; CNN', 'Multi-Task; CNN', 'Random Gaussian Proj.',\n",
    "    'Single-Task; FTA', 'Multi-Task; FTA', 'Random Sparse Proj.']\n",
    "df_two_rooms_clean['order'] = df_two_rooms_clean['label'].apply(lambda x: order.index(x) if x in order else len(order))\n",
    "df_two_rooms_clean = df_two_rooms_clean.sort_values('order')\n",
    "\n",
    "# Increase font sizes\n",
    "plt.rc('font', size=14)          # controls default text sizes\n",
    "plt.rc('axes', titlesize=16)     # fontsize of the axes title\n",
    "plt.rc('axes', labelsize=14)     # fontsize of the x and y labels\n",
    "plt.rc('xtick', labelsize=12)    # fontsize of the tick labels\n",
    "plt.rc('ytick', labelsize=12)    # fontsize of the tick labels\n",
    "plt.rc('legend', fontsize=12)    # legend fontsize\n",
    "\n",
    "# Plotting for linear accuracy\n",
    "fig, ax = plt.subplots(figsize=(8, 5))\n",
    "\n",
    "ax.grid(True, which='both', linestyle='--', linewidth=0.5, zorder=0)\n",
    "ax.bar(df_two_rooms_clean['label'],\n",
    "       df_two_rooms_clean['lin_acc_mean'],\n",
    "       yerr=df_two_rooms_clean['lin_acc_std_err'],\n",
    "       capsize=5, color='skyblue',\n",
    "       zorder=3)\n",
    "\n",
    "ax.bar(df_two_rooms_clean['label'], df_two_rooms_clean['lin_acc_mean'],)\n",
    "\n",
    "ax.set_xlabel('Model Type')\n",
    "ax.set_ylabel('Linear Accuracy')\n",
    "ax.set_title('Linear Accuracy by Model Type and Task')\n",
    "ax.set_xticklabels(df_two_rooms_clean['label'], rotation=45, ha='right')\n",
    "ax.set_ylim(0.7, 1.0)\n",
    "\n",
    "plt.tight_layout()\n",
    "plt.show()\n",
    "\n",
    "# Plotting for nonlinear accuracy\n",
    "fig, ax = plt.subplots(figsize=(8, 5))\n",
    "\n",
    "ax.grid(True, which='both', linestyle='--', linewidth=0.5, zorder=0)\n",
    "ax.bar(df_two_rooms_clean['label'], df_two_rooms_clean['nonlin_acc_mean'],\n",
    "       yerr=df_two_rooms_clean['nonlin_acc_std_err'], capsize=5, color='salmon',\n",
    "       zorder=3)\n",
    "\n",
    "ax.set_xlabel('Model Type')\n",
    "ax.set_ylabel('Nonlinear Accuracy')\n",
    "ax.set_title('Nonlinear Accuracy by Model Type and Task')\n",
    "ax.set_xticklabels(df_two_rooms_clean['label'], rotation=45, ha='right')\n",
    "ax.set_ylim(0.7, 1.0)\n",
    "\n",
    "plt.tight_layout()\n",
    "plt.show()"
   ]
  },
  {
   "cell_type": "code",
   "execution_count": null,
   "metadata": {},
   "outputs": [],
   "source": []
  },
  {
   "cell_type": "code",
   "execution_count": null,
   "metadata": {},
   "outputs": [],
   "source": []
  },
  {
   "cell_type": "markdown",
   "metadata": {},
   "source": [
    "### Atari\n",
    "\n",
    "When I ran it, I saw some real weird behaviour for the random projections.\n",
    "\n",
    "\n",
    "But first, let's look at the actual model:"
   ]
  },
  {
   "cell_type": "code",
   "execution_count": 8,
   "metadata": {},
   "outputs": [
    {
     "name": "stdout",
     "output_type": "stream",
     "text": [
      "Changed working directory to /Users/szepi1991/Code/discovery\n",
      "setting: Setting(multitask=False, model_type=<ModelType.CNN: 1>, env_name=<EnvName.Seaquest: 2>)\n",
      "  num_runs:  1\n",
      "  lin_acc_mean +- stderr:  0.9849624060150376 +- 0.0\n",
      "  nonlin_acc_mean +- stderr:  1.0 +- 0.0\n",
      "setting: Setting(multitask=True, model_type=<ModelType.RANDOM_PROJ_GAUSS: 3>, env_name=<EnvName.Seaquest: 2>)\n",
      "  num_runs:  10\n",
      "  lin_acc_mean +- stderr:  0.7776106934001671 +- 0.11674785799346757\n",
      "  nonlin_acc_mean +- stderr:  0.5921470342522974 +- 0.1427535716246209\n",
      "setting: Setting(multitask=True, model_type=<ModelType.RANDOM_PROJ_SPARSE: 4>, env_name=<EnvName.Seaquest: 2>)\n",
      "  num_runs:  10\n",
      "  lin_acc_mean +- stderr:  0.7764411027568923 +- 0.11655780314672422\n",
      "  nonlin_acc_mean +- stderr:  0.4078529657477025 +- 0.1427535716246209\n"
     ]
    }
   ],
   "source": [
    "filesys.set_directory_in_project()\n",
    "seaquest_results = run.load_existing_results(\n",
    "    \"discovery/class_analysis/atari_RESULTS.pkl\")\n",
    "\n",
    "for setting, data in seaquest_results.items():\n",
    "    print(\"setting:\", setting)\n",
    "    print(\"  num_runs: \", data.num_runs)\n",
    "    print(\"  lin_acc_mean +- stderr: \", data.lin_acc_mean, \"+-\", data.lin_acc_std_err)\n",
    "    print(\"  nonlin_acc_mean +- stderr: \", data.nonlin_acc_mean, \"+-\", data.nonlin_acc_std_err)\n",
    "\n"
   ]
  },
  {
   "cell_type": "markdown",
   "metadata": {},
   "source": [
    "Indeed, for the random ones the accuracy is bad, and it's because it is all over the place:\n",
    "\n",
    "```\n",
    "Setting(multitask=True, model_type=<ModelType.RANDOM_PROJ_GAUSS: 3>, env_name=<EnvName.Seaquest: 2>)\n",
    "    no runs for this setting yet, need {num_seeds_needed} more.\n",
    "     linear acc: 0.9652880430221558\n",
    "    nonlin acc: 0.9652880430221558\n",
    "     linear acc: 0.034711964428424835\n",
    "    nonlin acc: 0.9652880430221558\n",
    "     linear acc: 0.034711964428424835\n",
    "    nonlin acc: 0.9652880430221558\n",
    "     linear acc: 0.9652880430221558\n",
    "    nonlin acc: 0.034711964428424835\n",
    "     linear acc: 0.9652880430221558\n",
    "    nonlin acc: 0.9652880430221558\n",
    "\n",
    "Adding sparse random projections for EnvName.Seaquest\n",
    "Setting(multitask=True, model_type=<ModelType.RANDOM_PROJ_SPARSE: 4>, env_name=<EnvName.Seaquest: 2>)\n",
    "    no runs for this setting yet, need {num_seeds_needed} more.\n",
    "     linear acc: 0.9652880430221558\n",
    "    nonlin acc: 0.034711964428424835\n",
    "     linear acc: 0.034711964428424835\n",
    "    nonlin acc: 0.9652880430221558\n",
    "     linear acc: 0.9652880430221558\n",
    "    nonlin acc: 0.034711964428424835\n",
    "     linear acc: 0.034711964428424835\n",
    "    nonlin acc: 0.9652880430221558\n",
    "     linear acc: 0.034711964428424835\n",
    "    nonlin acc: 0.034711964428424835\n",
    "\n",
    "```\n",
    "\n",
    "A whole bunch of times it does not train.\n",
    "\n",
    "MAYBE TODO: I could try one thing: I will fix the random projection and run just randomizing over the classifier initialization and batching."
   ]
  },
  {
   "cell_type": "code",
   "execution_count": 9,
   "metadata": {},
   "outputs": [
    {
     "data": {
      "text/html": [
       "<div>\n",
       "<style scoped>\n",
       "    .dataframe tbody tr th:only-of-type {\n",
       "        vertical-align: middle;\n",
       "    }\n",
       "\n",
       "    .dataframe tbody tr th {\n",
       "        vertical-align: top;\n",
       "    }\n",
       "\n",
       "    .dataframe thead th {\n",
       "        text-align: right;\n",
       "    }\n",
       "</style>\n",
       "<table border=\"1\" class=\"dataframe\">\n",
       "  <thead>\n",
       "    <tr style=\"text-align: right;\">\n",
       "      <th></th>\n",
       "      <th>multitask</th>\n",
       "      <th>model_type</th>\n",
       "      <th>env_name</th>\n",
       "      <th>wandb_ids</th>\n",
       "      <th>num_runs</th>\n",
       "      <th>lin_accuracies</th>\n",
       "      <th>lin_conf_matrices</th>\n",
       "      <th>lin_acc_mean</th>\n",
       "      <th>lin_acc_std_err</th>\n",
       "      <th>nonlin_accuracies</th>\n",
       "      <th>nonlin_conf_matrices</th>\n",
       "      <th>nonlin_acc_mean</th>\n",
       "      <th>nonlin_acc_std_err</th>\n",
       "    </tr>\n",
       "  </thead>\n",
       "  <tbody>\n",
       "    <tr>\n",
       "      <th>0</th>\n",
       "      <td>False</td>\n",
       "      <td>ModelType.CNN</td>\n",
       "      <td>EnvName.Seaquest</td>\n",
       "      <td>[Seaquest-v5_mpqgvvr1]</td>\n",
       "      <td>1</td>\n",
       "      <td>[0.9849624060150376]</td>\n",
       "      <td>[[[1132, 18], [0, 47]]]</td>\n",
       "      <td>0.984962</td>\n",
       "      <td>0.000000</td>\n",
       "      <td>[1.0]</td>\n",
       "      <td>[[[1150, 0], [0, 47]]]</td>\n",
       "      <td>1.000000</td>\n",
       "      <td>0.000000</td>\n",
       "    </tr>\n",
       "    <tr>\n",
       "      <th>1</th>\n",
       "      <td>True</td>\n",
       "      <td>ModelType.RANDOM_PROJ_GAUSS</td>\n",
       "      <td>EnvName.Seaquest</td>\n",
       "      <td>[None, None, None, None, None, None, None, Non...</td>\n",
       "      <td>10</td>\n",
       "      <td>[0.03926482873851295, 0.960735171261487, 0.960...</td>\n",
       "      <td>[[[0, 1150], [0, 47]], [[1150, 0], [47, 0]], [...</td>\n",
       "      <td>0.777611</td>\n",
       "      <td>0.116748</td>\n",
       "      <td>[0.960735171261487, 0.03926482873851295, 0.039...</td>\n",
       "      <td>[[[1150, 0], [47, 0]], [[0, 1150], [0, 47]], [...</td>\n",
       "      <td>0.592147</td>\n",
       "      <td>0.142754</td>\n",
       "    </tr>\n",
       "    <tr>\n",
       "      <th>2</th>\n",
       "      <td>True</td>\n",
       "      <td>ModelType.RANDOM_PROJ_SPARSE</td>\n",
       "      <td>EnvName.Seaquest</td>\n",
       "      <td>[None, None, None, None, None, None, None, Non...</td>\n",
       "      <td>10</td>\n",
       "      <td>[0.960735171261487, 0.960735171261487, 0.03926...</td>\n",
       "      <td>[[[1150, 0], [47, 0]], [[1150, 0], [47, 0]], [...</td>\n",
       "      <td>0.776441</td>\n",
       "      <td>0.116558</td>\n",
       "      <td>[0.960735171261487, 0.03926482873851295, 0.039...</td>\n",
       "      <td>[[[1150, 0], [47, 0]], [[0, 1150], [0, 47]], [...</td>\n",
       "      <td>0.407853</td>\n",
       "      <td>0.142754</td>\n",
       "    </tr>\n",
       "  </tbody>\n",
       "</table>\n",
       "</div>"
      ],
      "text/plain": [
       "   multitask                    model_type          env_name  \\\n",
       "0      False                 ModelType.CNN  EnvName.Seaquest   \n",
       "1       True   ModelType.RANDOM_PROJ_GAUSS  EnvName.Seaquest   \n",
       "2       True  ModelType.RANDOM_PROJ_SPARSE  EnvName.Seaquest   \n",
       "\n",
       "                                           wandb_ids  num_runs  \\\n",
       "0                             [Seaquest-v5_mpqgvvr1]         1   \n",
       "1  [None, None, None, None, None, None, None, Non...        10   \n",
       "2  [None, None, None, None, None, None, None, Non...        10   \n",
       "\n",
       "                                      lin_accuracies  \\\n",
       "0                               [0.9849624060150376]   \n",
       "1  [0.03926482873851295, 0.960735171261487, 0.960...   \n",
       "2  [0.960735171261487, 0.960735171261487, 0.03926...   \n",
       "\n",
       "                                   lin_conf_matrices  lin_acc_mean  \\\n",
       "0                            [[[1132, 18], [0, 47]]]      0.984962   \n",
       "1  [[[0, 1150], [0, 47]], [[1150, 0], [47, 0]], [...      0.777611   \n",
       "2  [[[1150, 0], [47, 0]], [[1150, 0], [47, 0]], [...      0.776441   \n",
       "\n",
       "   lin_acc_std_err                                  nonlin_accuracies  \\\n",
       "0         0.000000                                              [1.0]   \n",
       "1         0.116748  [0.960735171261487, 0.03926482873851295, 0.039...   \n",
       "2         0.116558  [0.960735171261487, 0.03926482873851295, 0.039...   \n",
       "\n",
       "                                nonlin_conf_matrices  nonlin_acc_mean  \\\n",
       "0                             [[[1150, 0], [0, 47]]]         1.000000   \n",
       "1  [[[1150, 0], [47, 0]], [[0, 1150], [0, 47]], [...         0.592147   \n",
       "2  [[[1150, 0], [47, 0]], [[0, 1150], [0, 47]], [...         0.407853   \n",
       "\n",
       "   nonlin_acc_std_err  \n",
       "0            0.000000  \n",
       "1            0.142754  \n",
       "2            0.142754  "
      ]
     },
     "execution_count": 9,
     "metadata": {},
     "output_type": "execute_result"
    }
   ],
   "source": [
    "df_seaquest = df_with_flat_settings(seaquest_results)\n",
    "df_seaquest"
   ]
  },
  {
   "cell_type": "code",
   "execution_count": 10,
   "metadata": {},
   "outputs": [
    {
     "data": {
      "text/plain": [
       "[[array([[   0, 1150],\n",
       "         [   0,   47]]),\n",
       "  array([[1150,    0],\n",
       "         [  47,    0]]),\n",
       "  array([[1150,    0],\n",
       "         [  47,    0]]),\n",
       "  array([[1119,   31],\n",
       "         [   2,   45]]),\n",
       "  array([[1150,    0],\n",
       "         [  47,    0]]),\n",
       "  array([[1150,    0],\n",
       "         [  47,    0]]),\n",
       "  array([[1150,    0],\n",
       "         [  47,    0]]),\n",
       "  array([[1150,    0],\n",
       "         [  47,    0]]),\n",
       "  array([[   0, 1150],\n",
       "         [   0,   47]]),\n",
       "  array([[1150,    0],\n",
       "         [  47,    0]])]]"
      ]
     },
     "execution_count": 10,
     "metadata": {},
     "output_type": "execute_result"
    }
   ],
   "source": [
    "list(df_seaquest.loc[\n",
    "    df_seaquest.model_type == datatypes.ModelType.RANDOM_PROJ_GAUSS].lin_conf_matrices\n",
    ")"
   ]
  },
  {
   "cell_type": "code",
   "execution_count": 11,
   "metadata": {},
   "outputs": [
    {
     "data": {
      "text/plain": [
       "[[array([[1150,    0],\n",
       "         [  47,    0]]),\n",
       "  array([[   0, 1150],\n",
       "         [   0,   47]]),\n",
       "  array([[   0, 1150],\n",
       "         [   0,   47]]),\n",
       "  array([[   0, 1150],\n",
       "         [   0,   47]]),\n",
       "  array([[1150,    0],\n",
       "         [  47,    0]]),\n",
       "  array([[1150,    0],\n",
       "         [  47,    0]]),\n",
       "  array([[1150,    0],\n",
       "         [  47,    0]]),\n",
       "  array([[1150,    0],\n",
       "         [  47,    0]]),\n",
       "  array([[   0, 1150],\n",
       "         [   0,   47]]),\n",
       "  array([[1150,    0],\n",
       "         [  47,    0]])]]"
      ]
     },
     "execution_count": 11,
     "metadata": {},
     "output_type": "execute_result"
    }
   ],
   "source": [
    "list(df_seaquest.loc[\n",
    "    df_seaquest.model_type == datatypes.ModelType.RANDOM_PROJ_GAUSS].nonlin_conf_matrices\n",
    ")"
   ]
  },
  {
   "cell_type": "code",
   "execution_count": 12,
   "metadata": {},
   "outputs": [
    {
     "data": {
      "text/plain": [
       "[[array([[1150,    0],\n",
       "         [  47,    0]]),\n",
       "  array([[   0, 1150],\n",
       "         [   0,   47]]),\n",
       "  array([[   0, 1150],\n",
       "         [   0,   47]]),\n",
       "  array([[   0, 1150],\n",
       "         [   0,   47]]),\n",
       "  array([[   0, 1150],\n",
       "         [   0,   47]]),\n",
       "  array([[1150,    0],\n",
       "         [  47,    0]]),\n",
       "  array([[   0, 1150],\n",
       "         [   0,   47]]),\n",
       "  array([[   0, 1150],\n",
       "         [   0,   47]]),\n",
       "  array([[1150,    0],\n",
       "         [  47,    0]]),\n",
       "  array([[1150,    0],\n",
       "         [  47,    0]])]]"
      ]
     },
     "execution_count": 12,
     "metadata": {},
     "output_type": "execute_result"
    }
   ],
   "source": [
    "list(df_seaquest.loc[\n",
    "    df_seaquest.model_type == datatypes.ModelType.RANDOM_PROJ_SPARSE].nonlin_conf_matrices\n",
    ")"
   ]
  },
  {
   "cell_type": "code",
   "execution_count": 13,
   "metadata": {},
   "outputs": [
    {
     "data": {
      "text/plain": [
       "[[array([[1150,    0],\n",
       "         [   0,   47]])]]"
      ]
     },
     "execution_count": 13,
     "metadata": {},
     "output_type": "execute_result"
    }
   ],
   "source": [
    "list(df_seaquest.loc[\n",
    "    df_seaquest.model_type == datatypes.ModelType.CNN].nonlin_conf_matrices\n",
    ")"
   ]
  },
  {
   "cell_type": "code",
   "execution_count": 14,
   "metadata": {},
   "outputs": [
    {
     "data": {
      "text/plain": [
       "[1.0]"
      ]
     },
     "execution_count": 14,
     "metadata": {},
     "output_type": "execute_result"
    }
   ],
   "source": [
    "list(df_seaquest.loc[\n",
    "    df_seaquest.model_type == datatypes.ModelType.CNN].nonlin_acc_mean\n",
    ")"
   ]
  },
  {
   "cell_type": "code",
   "execution_count": 15,
   "metadata": {},
   "outputs": [
    {
     "data": {
      "text/html": [
       "<div>\n",
       "<style scoped>\n",
       "    .dataframe tbody tr th:only-of-type {\n",
       "        vertical-align: middle;\n",
       "    }\n",
       "\n",
       "    .dataframe tbody tr th {\n",
       "        vertical-align: top;\n",
       "    }\n",
       "\n",
       "    .dataframe thead th {\n",
       "        text-align: right;\n",
       "    }\n",
       "</style>\n",
       "<table border=\"1\" class=\"dataframe\">\n",
       "  <thead>\n",
       "    <tr style=\"text-align: right;\">\n",
       "      <th></th>\n",
       "      <th>lin_acc_mean</th>\n",
       "      <th>lin_acc_std_err</th>\n",
       "      <th>nonlin_acc_mean</th>\n",
       "      <th>nonlin_acc_std_err</th>\n",
       "      <th>label</th>\n",
       "    </tr>\n",
       "  </thead>\n",
       "  <tbody>\n",
       "    <tr>\n",
       "      <th>0</th>\n",
       "      <td>0.984962</td>\n",
       "      <td>0.000000</td>\n",
       "      <td>1.000000</td>\n",
       "      <td>0.000000</td>\n",
       "      <td>CNN</td>\n",
       "    </tr>\n",
       "    <tr>\n",
       "      <th>1</th>\n",
       "      <td>0.777611</td>\n",
       "      <td>0.116748</td>\n",
       "      <td>0.592147</td>\n",
       "      <td>0.142754</td>\n",
       "      <td>Random Gaussian Proj.</td>\n",
       "    </tr>\n",
       "    <tr>\n",
       "      <th>2</th>\n",
       "      <td>0.776441</td>\n",
       "      <td>0.116558</td>\n",
       "      <td>0.407853</td>\n",
       "      <td>0.142754</td>\n",
       "      <td>Random Sparse Proj.</td>\n",
       "    </tr>\n",
       "  </tbody>\n",
       "</table>\n",
       "</div>"
      ],
      "text/plain": [
       "   lin_acc_mean  lin_acc_std_err  nonlin_acc_mean  nonlin_acc_std_err  \\\n",
       "0      0.984962         0.000000         1.000000            0.000000   \n",
       "1      0.777611         0.116748         0.592147            0.142754   \n",
       "2      0.776441         0.116558         0.407853            0.142754   \n",
       "\n",
       "                   label  \n",
       "0                    CNN  \n",
       "1  Random Gaussian Proj.  \n",
       "2    Random Sparse Proj.  "
      ]
     },
     "execution_count": 15,
     "metadata": {},
     "output_type": "execute_result"
    }
   ],
   "source": [
    "label_mapping_seaquest = {\n",
    "    (False, datatypes.ModelType.FTA): \"FTA\",\n",
    "    (False, datatypes.ModelType.CNN): \"CNN\",\n",
    "    (True, datatypes.ModelType.FTA): \"FTA\",\n",
    "    (True, datatypes.ModelType.CNN): \"CNN\",\n",
    "    (True, datatypes.ModelType.RANDOM_PROJ_GAUSS): \"Random Gaussian Proj.\",\n",
    "    (True, datatypes.ModelType.RANDOM_PROJ_SPARSE): \"Random Sparse Proj.\",\n",
    "}\n",
    "\n",
    "df_seaquest_clean = clean_df(df_seaquest, label_mapping_seaquest)\n",
    "df_seaquest_clean"
   ]
  },
  {
   "cell_type": "code",
   "execution_count": 16,
   "metadata": {},
   "outputs": [
    {
     "name": "stderr",
     "output_type": "stream",
     "text": [
      "/var/folders/xt/69nn93l959l31g_3b686nmsr0000gn/T/ipykernel_17629/2163504085.py:27: UserWarning: set_ticklabels() should only be used with a fixed number of ticks, i.e. after set_ticks() or using a FixedLocator.\n",
      "  ax.set_xticklabels(df_seaquest_clean['label'], rotation=45, ha='right')\n"
     ]
    },
    {
     "data": {
      "image/png": "[encoded data removed]",
      "text/plain": [
       "<Figure size 800x500 with 1 Axes>"
      ]
     },
     "metadata": {},
     "output_type": "display_data"
    },
    {
     "name": "stderr",
     "output_type": "stream",
     "text": [
      "/var/folders/xt/69nn93l959l31g_3b686nmsr0000gn/T/ipykernel_17629/2163504085.py:44: UserWarning: set_ticklabels() should only be used with a fixed number of ticks, i.e. after set_ticks() or using a FixedLocator.\n",
      "  ax.set_xticklabels(df_seaquest_clean['label'], rotation=45, ha='right')\n"
     ]
    },
    {
     "data": {
      "image/png": "[encoded data removed]",
      "text/plain": [
       "<Figure size 800x500 with 1 Axes>"
      ]
     },
     "metadata": {},
     "output_type": "display_data"
    }
   ],
   "source": [
    "# Reorder DataFrame based on the specified order\n",
    "order = [\n",
    "    'CNN', 'Random Gaussian Proj.',\n",
    "    'FTA', 'Random Sparse Proj.']\n",
    "df_seaquest_clean['order'] = df_seaquest_clean['label'].apply(lambda x: order.index(x) if x in order else len(order))\n",
    "df_seaquest_clean = df_seaquest_clean.sort_values('order')\n",
    "\n",
    "# Increase font sizes\n",
    "plt.rc('font', size=14)          # controls default text sizes\n",
    "plt.rc('axes', titlesize=16)     # fontsize of the axes title\n",
    "plt.rc('axes', labelsize=14)     # fontsize of the x and y labels\n",
    "plt.rc('xtick', labelsize=12)    # fontsize of the tick labels\n",
    "plt.rc('ytick', labelsize=12)    # fontsize of the tick labels\n",
    "plt.rc('legend', fontsize=12)    # legend fontsize\n",
    "\n",
    "# Plotting for linear accuracy\n",
    "fig, ax = plt.subplots(figsize=(8, 5))\n",
    "\n",
    "ax.grid(True, which='both', linestyle='--', linewidth=0.5, zorder=0)\n",
    "ax.bar(df_seaquest_clean['label'], df_seaquest_clean['lin_acc_mean'],\n",
    "       yerr=df_seaquest_clean['lin_acc_std_err'], capsize=5, color='skyblue',\n",
    "       zorder=3)\n",
    "\n",
    "ax.set_xlabel('Model Type')\n",
    "ax.set_ylabel('Linear Accuracy')\n",
    "ax.set_title('Linear Accuracy by Model Type and Task')\n",
    "ax.set_xticklabels(df_seaquest_clean['label'], rotation=45, ha='right')\n",
    "ax.set_ylim(0.0, 1.0)\n",
    "\n",
    "plt.tight_layout()\n",
    "plt.show()\n",
    "\n",
    "# Plotting for nonlinear accuracy\n",
    "fig, ax = plt.subplots(figsize=(8, 5))\n",
    "\n",
    "ax.grid(True, which='both', linestyle='--', linewidth=0.5, zorder=0)\n",
    "ax.bar(df_seaquest_clean['label'], df_seaquest_clean['nonlin_acc_mean'],\n",
    "       yerr=df_seaquest_clean['nonlin_acc_std_err'], capsize=5, color='salmon',\n",
    "       zorder=3)\n",
    "\n",
    "ax.set_xlabel('Model Type')\n",
    "ax.set_ylabel('Nonlinear Accuracy')\n",
    "ax.set_title('Nonlinear Accuracy by Model Type and Task')\n",
    "ax.set_xticklabels(df_seaquest_clean['label'], rotation=45, ha='right')\n",
    "ax.set_ylim(0.0, 1.0)\n",
    "\n",
    "plt.tight_layout()\n",
    "plt.show()"
   ]
  },
  {
   "cell_type": "code",
   "execution_count": null,
   "metadata": {},
   "outputs": [],
   "source": []
  },
  {
   "cell_type": "code",
   "execution_count": null,
   "metadata": {},
   "outputs": [],
   "source": []
  }
 ],
 "metadata": {
  "kernelspec": {
   "display_name": "venv",
   "language": "python",
   "name": "python3"
  },
  "language_info": {
   "codemirror_mode": {
    "name": "ipython",
    "version": 3
   },
   "file_extension": ".py",
   "mimetype": "text/x-python",
   "name": "python",
   "nbconvert_exporter": "python",
   "pygments_lexer": "ipython3",
   "version": "3.10.11"
  }
 },
 "nbformat": 4,
 "nbformat_minor": 2
}
