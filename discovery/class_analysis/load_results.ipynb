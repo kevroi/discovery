{
 "cells": [
  {
   "cell_type": "markdown",
   "metadata": {},
   "source": [
    "# Load classification Results"
   ]
  },
  {
   "cell_type": "code",
   "execution_count": 1,
   "metadata": {},
   "outputs": [
    {
     "name": "stdout",
     "output_type": "stream",
     "text": [
      "pygame 2.5.2 (SDL 2.28.3, Python 3.11.7)\n",
      "Hello from the pygame community. https://www.pygame.org/contribute.html\n",
      "Changed working directory to /Users/szepi1991/Code/discovery\n"
     ]
    },
    {
     "data": {
      "text/plain": [
       "'/Users/szepi1991/Code/discovery'"
      ]
     },
     "execution_count": 1,
     "metadata": {},
     "output_type": "execute_result"
    }
   ],
   "source": [
    "import pickle\n",
    "from discovery.class_analysis import run\n",
    "from discovery.class_analysis import datatypes\n",
    "import numpy as np\n",
    "from importlib import reload\n",
    "from discovery.utils import filesys\n",
    "\n",
    "import pandas as pd\n",
    "import os\n",
    "import dataclasses\n",
    "import matplotlib.pyplot as plt\n",
    "\n",
    "run = reload(run)\n",
    "filesys = reload(filesys)\n",
    "\n",
    "filesys.set_directory_in_project()\n"
   ]
  },
  {
   "cell_type": "code",
   "execution_count": null,
   "metadata": {},
   "outputs": [],
   "source": []
  },
  {
   "cell_type": "code",
   "execution_count": null,
   "metadata": {},
   "outputs": [],
   "source": []
  },
  {
   "cell_type": "markdown",
   "metadata": {},
   "source": [
    "### Atari\n",
    "\n",
    "When I ran it, I saw some real weird behaviour for the random projections.\n",
    "\n",
    "\n",
    "But first, let's look at the actual model:"
   ]
  },
  {
   "cell_type": "code",
   "execution_count": 2,
   "metadata": {},
   "outputs": [
    {
     "name": "stdout",
     "output_type": "stream",
     "text": [
      "Changed working directory to /Users/szepi1991/Code/discovery\n",
      "setting: Setting(multitask=False, model_type=<ModelType.CNN: 1>, env_name=<EnvName.Seaquest: 2>)\n",
      "  num_runs:  1\n",
      "  lin_acc_mean +- stderr:  0.9247385859489441 +- 0.0\n",
      "  nonlin_acc_mean +- stderr:  0.9329859018325806 +- 0.0\n",
      "setting: Setting(multitask=True, model_type=<ModelType.RANDOM_PROJ_GAUSS: 3>, env_name=<EnvName.Seaquest: 2>)\n",
      "  num_runs:  5\n",
      "  lin_acc_mean +- stderr:  0.5930576115846634 +- 0.20387900388819472\n",
      "  nonlin_acc_mean +- stderr:  0.7791728273034095 +- 0.16646650959766152\n",
      "setting: Setting(multitask=True, model_type=<ModelType.RANDOM_PROJ_SPARSE: 4>, env_name=<EnvName.Seaquest: 2>)\n",
      "  num_runs:  5\n",
      "  lin_acc_mean +- stderr:  0.4069423958659172 +- 0.20387900388819472\n",
      "  nonlin_acc_mean +- stderr:  0.4069423958659172 +- 0.20387900388819472\n"
     ]
    }
   ],
   "source": [
    "filesys.set_directory_in_project()\n",
    "debug_results = run.load_existing_results(\n",
    "    \"discovery/class_analysis/atari_RESULTS.pkl\")\n",
    "\n",
    "for setting, data in debug_results.items():\n",
    "    print(\"setting:\", setting)\n",
    "    print(\"  num_runs: \", data.num_runs)\n",
    "    print(\"  lin_acc_mean +- stderr: \", data.lin_acc_mean, \"+-\", data.lin_acc_std_err)\n",
    "    print(\"  nonlin_acc_mean +- stderr: \", data.nonlin_acc_mean, \"+-\", data.nonlin_acc_std_err)\n",
    "\n"
   ]
  },
  {
   "cell_type": "markdown",
   "metadata": {},
   "source": [
    "Indeed, for the random ones the accuracy is bad, and it's because it is all over the place:\n",
    "\n",
    "```\n",
    "Setting(multitask=True, model_type=<ModelType.RANDOM_PROJ_GAUSS: 3>, env_name=<EnvName.Seaquest: 2>)\n",
    "    no runs for this setting yet, need {num_seeds_needed} more.\n",
    "     linear acc: 0.9652880430221558\n",
    "    nonlin acc: 0.9652880430221558\n",
    "     linear acc: 0.034711964428424835\n",
    "    nonlin acc: 0.9652880430221558\n",
    "     linear acc: 0.034711964428424835\n",
    "    nonlin acc: 0.9652880430221558\n",
    "     linear acc: 0.9652880430221558\n",
    "    nonlin acc: 0.034711964428424835\n",
    "     linear acc: 0.9652880430221558\n",
    "    nonlin acc: 0.9652880430221558\n",
    "\n",
    "Adding sparse random projections for EnvName.Seaquest\n",
    "Setting(multitask=True, model_type=<ModelType.RANDOM_PROJ_SPARSE: 4>, env_name=<EnvName.Seaquest: 2>)\n",
    "    no runs for this setting yet, need {num_seeds_needed} more.\n",
    "     linear acc: 0.9652880430221558\n",
    "    nonlin acc: 0.034711964428424835\n",
    "     linear acc: 0.034711964428424835\n",
    "    nonlin acc: 0.9652880430221558\n",
    "     linear acc: 0.9652880430221558\n",
    "    nonlin acc: 0.034711964428424835\n",
    "     linear acc: 0.034711964428424835\n",
    "    nonlin acc: 0.9652880430221558\n",
    "     linear acc: 0.034711964428424835\n",
    "    nonlin acc: 0.034711964428424835\n",
    "\n",
    "```\n",
    "\n",
    "A whole bunch of times it does not train.\n",
    "\n",
    "MAYBE TODO: I could try one thing: I will fix the random projection and run just randomizing over the classifier initialization and batching."
   ]
  },
  {
   "cell_type": "code",
   "execution_count": null,
   "metadata": {},
   "outputs": [],
   "source": []
  }
 ],
 "metadata": {
  "kernelspec": {
   "display_name": "venv",
   "language": "python",
   "name": "python3"
  },
  "language_info": {
   "codemirror_mode": {
    "name": "ipython",
    "version": 3
   },
   "file_extension": ".py",
   "mimetype": "text/x-python",
   "name": "python",
   "nbconvert_exporter": "python",
   "pygments_lexer": "ipython3",
   "version": "3.11.7"
  }
 },
 "nbformat": 4,
 "nbformat_minor": 2
}
