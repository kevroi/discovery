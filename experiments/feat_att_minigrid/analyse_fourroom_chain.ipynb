{
 "cells": [
  {
   "cell_type": "markdown",
   "metadata": {},
   "source": [
    "This analyses the fourroom env with random starts, fixed goal."
   ]
  },
  {
   "cell_type": "code",
   "execution_count": 1,
   "metadata": {},
   "outputs": [
    {
     "name": "stdout",
     "output_type": "stream",
     "text": [
      "pygame 2.5.2 (SDL 2.28.3, Python 3.9.6)\n",
      "Hello from the pygame community. https://www.pygame.org/contribute.html\n"
     ]
    }
   ],
   "source": [
    "import gymnasium as gym\n",
    "from minigrid.wrappers import ImgObsWrapper, FullyObsWrapper\n",
    "from stable_baselines3.common.monitor import Monitor\n",
    "from stable_baselines3.common.vec_env import DummyVecEnv, VecVideoRecorder\n",
    "from experiments.feat_att_minigrid.n_room_env import FourRoomChainEnv\n",
    "import numpy as np\n",
    "import matplotlib.pyplot as plt\n",
    "import torch\n",
    "import os\n",
    "from stable_baselines3 import PPO\n",
    "from cnn import MinigridFeaturesExtractor\n",
    "from stable_baselines3.common.utils import obs_as_tensor"
   ]
  },
  {
   "cell_type": "code",
   "execution_count": 63,
   "metadata": {},
   "outputs": [],
   "source": [
    "config = {\n",
    "    \"policy_type\": \"CnnPolicy\",\n",
    "    \"total_timesteps\": 2e6,\n",
    "    \"env_name\": \"Four-Room-Chain\",\n",
    "    \"feat_dim\":12,\n",
    "    \"random_starts\": False,\n",
    "}\n",
    "# load agent\n",
    "# model = PPO.load(\"/Users/kevinroice/Documents/research/discovery/models/8qilkcik/model\") # 32 dim feats\n",
    "# model = PPO.load(\"/Users/kevinroice/Documents/research/discovery/models/f8e0x616/model\") # 16 dim feats\n",
    "model = PPO.load(\"/Users/kevinroice/Documents/research/discovery/models/w75lcl94/model\") # 12 dim feats\n",
    "def make_env():\n",
    "    env = FourRoomChainEnv(render_mode=\"rgb_array\", random_starts=config[\"random_starts\"])\n",
    "    env = FullyObsWrapper(env)\n",
    "    env = ImgObsWrapper(env)\n",
    "    env = Monitor(env)\n",
    "    return env\n",
    "\n",
    "def pre_process_obs(obs, model):\n",
    "    obs = np.transpose(obs, (0,3,1,2)) # bring colour channel to front\n",
    "    return obs_as_tensor(obs, model.policy.device)\n",
    "\n",
    "def get_hallway_obs(env, see_obs=False):\n",
    "    # # Vector Action Encoding:\n",
    "    # 0 = left\n",
    "    # 1 = right\n",
    "    # 2 = forward\n",
    "\n",
    "    obs = env.reset() # initial obs\n",
    "    obs_list = []\n",
    "    \n",
    "    # move to the hallway\n",
    "    obs, _, _, _ = env.step([2])\n",
    "    obs, _, _, _ = env.step([2])\n",
    "    obs, _, _, _ = env.step([2])\n",
    "    obs, _, _, _ = env.step([2])\n",
    "    obs, _, _, _ = env.step([2])\n",
    "    obs, _, _, _ = env.step([1])\n",
    "    obs, _, _, _ = env.step([2])\n",
    "    obs, _, _, _ = env.step([2])\n",
    "    obs, _, _, _ = env.step([0])\n",
    "    obs_list.append(obs)\n",
    "    obs, _, _, _ = env.step([2])\n",
    "    obs_list.append(obs)\n",
    "    obs, _, _, _ = env.step([2])\n",
    "    obs_list.append(obs)\n",
    "    obs, _, _, _ = env.step([0])\n",
    "    obs, _, _, _ = env.step([0])\n",
    "    obs_list.append(obs)\n",
    "    obs, _, _, _ = env.step([2])\n",
    "    obs_list.append(obs)\n",
    "    obs, _, _, _ = env.step([2])\n",
    "    obs_list.append(obs)\n",
    "\n",
    "    # move to the next hallway\n",
    "    obs, _, _, _ = env.step([0])\n",
    "    obs, _, _, _ = env.step([0])\n",
    "    for i in range(7):\n",
    "        obs, _, _, _ = env.step([2])\n",
    "    obs, _, _, _ = env.step([1])\n",
    "    obs, _, _, _ = env.step([2])\n",
    "    obs, _, _, _ = env.step([2])\n",
    "    obs, _, _, _ = env.step([0])\n",
    "    obs_list.append(obs)\n",
    "    obs, _, _, _ = env.step([2])\n",
    "    obs_list.append(obs)\n",
    "    obs, _, _, _ = env.step([2])\n",
    "    obs_list.append(obs)\n",
    "    obs, _, _, _ = env.step([0])\n",
    "    obs, _, _, _ = env.step([0])\n",
    "    obs_list.append(obs)\n",
    "    obs, _, _, _ = env.step([2])\n",
    "    obs_list.append(obs)\n",
    "    obs, _, _, _ = env.step([2])\n",
    "    obs_list.append(obs)\n",
    "\n",
    "    # move to the next hallway\n",
    "    obs, _, _, _ = env.step([0])\n",
    "    obs, _, _, _ = env.step([0])\n",
    "    for i in range(7):\n",
    "        obs, _, _, _ = env.step([2])\n",
    "    obs, _, _, _ = env.step([0])    \n",
    "    obs, _, _, _ = env.step([2])\n",
    "    obs, _, _, _ = env.step([2])\n",
    "    obs, _, _, _ = env.step([2])\n",
    "    obs, _, _, _ = env.step([2])\n",
    "    obs, _, _, _ = env.step([1])\n",
    "    obs_list.append(obs)\n",
    "    obs, _, _, _ = env.step([2])\n",
    "    obs_list.append(obs)\n",
    "    obs, _, _, _ = env.step([2])\n",
    "    obs_list.append(obs)\n",
    "    obs, _, _, _ = env.step([0])\n",
    "    obs, _, _, _ = env.step([0])\n",
    "    obs_list.append(obs)\n",
    "    obs, _, _, _ = env.step([2])\n",
    "    obs_list.append(obs)\n",
    "    obs, _, _, _ = env.step([2])\n",
    "    obs_list.append(obs)\n",
    "    \n",
    "    if see_obs:\n",
    "        img = env.render()\n",
    "        plt.imshow(np.concatenate([img], 1)) # shows the full environment\n",
    "        plt.show()\n",
    "    \n",
    "    return obs_list"
   ]
  },
  {
   "cell_type": "code",
   "execution_count": 64,
   "metadata": {},
   "outputs": [
    {
     "data": {
      "image/png": "[encoded data removed]",
      "text/plain": [
       "<Figure size 640x480 with 1 Axes>"
      ]
     },
     "metadata": {},
     "output_type": "display_data"
    }
   ],
   "source": [
    "env = DummyVecEnv([make_env])\n",
    "obs = env.reset()\n",
    "obs_list = get_hallway_obs(env, see_obs=True)"
   ]
  },
  {
   "cell_type": "code",
   "execution_count": 67,
   "metadata": {},
   "outputs": [],
   "source": [
    "max_feat_list = []\n",
    "feature_activations = []\n",
    "\n",
    "with torch.no_grad():\n",
    "    for obs in obs_list:\n",
    "        obs = pre_process_obs(obs, model)\n",
    "        x = model.policy.extract_features(obs)\n",
    "        max_feat_list.append(torch.argmax(x).item())\n",
    "        feature_activations.append(x.reshape(1, -1))\n",
    "\n",
    "feature_activations = torch.cat(feature_activations, dim=0)"
   ]
  },
  {
   "cell_type": "code",
   "execution_count": 75,
   "metadata": {},
   "outputs": [
    {
     "data": {
      "image/png": "[encoded data removed]",
      "text/plain": [
       "<Figure size 500x500 with 2 Axes>"
      ]
     },
     "metadata": {},
     "output_type": "display_data"
    }
   ],
   "source": [
    "plt.figure(figsize=(5, 5))  # Adjust the figure size as needed\n",
    "plt.imshow(feature_activations, cmap='viridis', aspect='auto')\n",
    "# y_tick_positions = [i * 56 for i in range(785 // 56)] # 16 by 16\n",
    "y_tick_positions = [i * 3 for i in range(18 // 3)]\n",
    "plt.yticks(y_tick_positions)\n",
    "for y in y_tick_positions:\n",
    "    plt.axhline(y=y-0.5, linewidth=1, color='white', alpha=0.5)\n",
    "plt.colorbar()\n",
    "plt.xlabel('Feature Index')\n",
    "plt.ylabel('Observation Index')\n",
    "plt.title('Feature Heatmap')\n",
    "plt.show()"
   ]
  },
  {
   "cell_type": "code",
   "execution_count": null,
   "metadata": {},
   "outputs": [],
   "source": []
  }
 ],
 "metadata": {
  "kernelspec": {
   "display_name": "venv",
   "language": "python",
   "name": "python3"
  },
  "language_info": {
   "codemirror_mode": {
    "name": "ipython",
    "version": 3
   },
   "file_extension": ".py",
   "mimetype": "text/x-python",
   "name": "python",
   "nbconvert_exporter": "python",
   "pygments_lexer": "ipython3",
   "version": "3.9.6"
  },
  "orig_nbformat": 4
 },
 "nbformat": 4,
 "nbformat_minor": 2
}
